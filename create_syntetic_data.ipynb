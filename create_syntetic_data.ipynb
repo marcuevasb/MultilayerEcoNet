{
 "cells": [
  {
   "cell_type": "code",
   "execution_count": 3,
   "metadata": {},
   "outputs": [],
   "source": [
    "import numpy as np\n",
    "import pandas as pd"
   ]
  },
  {
   "cell_type": "code",
   "execution_count": 4,
   "metadata": {},
   "outputs": [],
   "source": [
    "data_path = 'data/NaRedona_observed_6layers.csv' \n",
    "data = pd.read_csv(data_path, sep=',', header=0)\n",
    "\n",
    "# create df by taking 200 columns from the original data randomly\n",
    "df = data.sample(n=200)\n",
    "\n",
    "\n",
    "# Create a new df, randomly picking 200 rows of the original data, but\n",
    "# adding at least one row for each combination of plant_sp and interaction_type\n",
    "combinations = data.groupby([\"plant_sp\", \"interaction_type\"]).size().reset_index(name=\"count\").drop(columns=\"count\")\n",
    "\n",
    "\n",
    "df = pd.DataFrame()\n",
    "for i, r in combinations.iterrows():\n",
    "    df = pd.concat([df, \n",
    "                    data.loc[(data.plant_sp == r.iloc[0]) & (data.interaction_type == r.iloc[1])].sample(n=1)])\n",
    "\n",
    "# now pick new rows randomly until we have 200 rows, withot repeating rows\n",
    "while len(df) < 200:\n",
    "    df = pd.concat([df, data.sample(n=1)])\n",
    "    df = df.drop_duplicates()\n",
    "\n",
    "# pick randomly one row for each interaction_type and set the last column to 1\n",
    "for i in df.interaction_type.unique():\n",
    "    df.iloc[df.interaction_type == i, -1] = 1\n",
    "# save the new df to a csv file\n",
    "df.to_csv('data/data_test.csv', index=False)"
   ]
  },
  {
   "cell_type": "code",
   "execution_count": null,
   "metadata": {},
   "outputs": [],
   "source": []
  }
 ],
 "metadata": {
  "kernelspec": {
   "display_name": "marx",
   "language": "python",
   "name": "python3"
  },
  "language_info": {
   "codemirror_mode": {
    "name": "ipython",
    "version": 3
   },
   "file_extension": ".py",
   "mimetype": "text/x-python",
   "name": "python",
   "nbconvert_exporter": "python",
   "pygments_lexer": "ipython3",
   "version": "3.10.8"
  }
 },
 "nbformat": 4,
 "nbformat_minor": 2
}
